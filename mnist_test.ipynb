{
  "nbformat": 4,
  "nbformat_minor": 0,
  "metadata": {
    "colab": {
      "name": "mnist_test.ipynb",
      "provenance": [],
      "authorship_tag": "ABX9TyNdyB8+JXZGfcHichPeXvjF",
      "include_colab_link": true
    },
    "kernelspec": {
      "name": "python3",
      "display_name": "Python 3"
    }
  },
  "cells": [
    {
      "cell_type": "markdown",
      "metadata": {
        "id": "view-in-github",
        "colab_type": "text"
      },
      "source": [
        "<a href=\"https://colab.research.google.com/github/mastro98/mnist-prova1/blob/master/mnist_test.ipynb\" target=\"_parent\"><img src=\"https://colab.research.google.com/assets/colab-badge.svg\" alt=\"Open In Colab\"/></a>"
      ]
    },
    {
      "cell_type": "code",
      "metadata": {
        "id": "FAR5J8EeMnnQ"
      },
      "source": [
        "!pip3 install tensorflow\n",
        "import tensorflow as tf\n",
        "mnist=tf.keras.datasets.mnist    #28*28 pixels images\n",
        "\n",
        "(x_train,y_train), (x_test,y_test)=mnist.load_data()\n",
        "\n",
        "x_train=tf.keras.utils.normalize(x_train,axis=1)     #normalization of the input values\n",
        "x_test=tf.keras.utils.normalize(x_test,axis=1)\n",
        "\n",
        "model=tf.keras.models.Sequential()\n",
        "model.add(tf.keras.layers.Flatten())\n",
        "model.add(tf.keras.layers.Dense(128,activation=tf.nn.relu))  #128 neurons layer, first hidden layer\n",
        "model.add(tf.keras.layers.Dense(128,activation=tf.nn.relu))  #128 neurons layer, second hidden layer\n",
        "model.add(tf.keras.layers.Dense(10,activation=tf.nn.softmax))  #output layer, softmax is a kind of a probability distribution\n",
        "#relu is a rectisy linear function used to activate the neurons\n",
        "model.compile(optimizer='adam',loss='sparse_categorical_crossentropy',metrics=['accuracy']) #optimize the loss function \n",
        "model.fit(x_train,y_train,epochs=5)\n"
      ],
      "execution_count": null,
      "outputs": []
    },
    {
      "cell_type": "code",
      "metadata": {
        "id": "UEXm20PTUai_",
        "outputId": "4ae3cc12-859d-4482-cc28-4c9658915263",
        "colab": {
          "base_uri": "https://localhost:8080/",
          "height": 105
        }
      },
      "source": [
        "val_loss,val_acc=model.evaluate(x_test,y_test)  #model use test values\n",
        "print('loss\\n',val_loss,'\\n','acc\\n',val_acc)   #print loss and acc"
      ],
      "execution_count": 13,
      "outputs": [
        {
          "output_type": "stream",
          "text": [
            "313/313 [==============================] - 0s 1ms/step - loss: 0.0879 - accuracy: 0.9727\n",
            "loss\n",
            " 0.08790431916713715 \n",
            " acc\n",
            " 0.9726999998092651\n"
          ],
          "name": "stdout"
        }
      ]
    },
    {
      "cell_type": "code",
      "metadata": {
        "id": "5IIiIpFMVS9M",
        "outputId": "7129e177-b96c-425e-8071-c62a6612a9be",
        "colab": {
          "base_uri": "https://localhost:8080/",
          "height": 160
        }
      },
      "source": [
        "model.save('esercizio.model')\n"
      ],
      "execution_count": 14,
      "outputs": [
        {
          "output_type": "stream",
          "text": [
            "WARNING:tensorflow:From /usr/local/lib/python3.6/dist-packages/tensorflow/python/training/tracking/tracking.py:111: Model.state_updates (from tensorflow.python.keras.engine.training) is deprecated and will be removed in a future version.\n",
            "Instructions for updating:\n",
            "This property should not be used in TensorFlow 2.0, as updates are applied automatically.\n",
            "WARNING:tensorflow:From /usr/local/lib/python3.6/dist-packages/tensorflow/python/training/tracking/tracking.py:111: Layer.updates (from tensorflow.python.keras.engine.base_layer) is deprecated and will be removed in a future version.\n",
            "Instructions for updating:\n",
            "This property should not be used in TensorFlow 2.0, as updates are applied automatically.\n",
            "INFO:tensorflow:Assets written to: esercizio.model/assets\n"
          ],
          "name": "stdout"
        }
      ]
    },
    {
      "cell_type": "code",
      "metadata": {
        "id": "uywfRFZIVdN2"
      },
      "source": [
        "new_model=tf.keras.models.load_model('esercizio.model')"
      ],
      "execution_count": 16,
      "outputs": []
    },
    {
      "cell_type": "code",
      "metadata": {
        "id": "3Fu0swA7VrNB"
      },
      "source": [
        "predictions=new_model.predict([x_test])"
      ],
      "execution_count": 17,
      "outputs": []
    },
    {
      "cell_type": "code",
      "metadata": {
        "id": "AxxmD01hWLzs",
        "outputId": "3b13292e-47d9-47db-b42e-14cce153f20c",
        "colab": {
          "base_uri": "https://localhost:8080/",
          "height": 34
        }
      },
      "source": [
        "import numpy as np                  #becouse I have a tensor with a destribution of probability\n",
        "print(np.argmax(predictions[100]))  #np.argmax take the most likely value\n"
      ],
      "execution_count": 18,
      "outputs": [
        {
          "output_type": "stream",
          "text": [
            "6\n"
          ],
          "name": "stdout"
        }
      ]
    },
    {
      "cell_type": "code",
      "metadata": {
        "id": "UNUCH-gjW2gz",
        "outputId": "edacf3a3-6501-4bea-b5d6-a27679c9354d",
        "colab": {
          "base_uri": "https://localhost:8080/",
          "height": 282
        }
      },
      "source": [
        "plt.imshow(x_test[100])\n",
        "plt.show"
      ],
      "execution_count": 19,
      "outputs": [
        {
          "output_type": "execute_result",
          "data": {
            "text/plain": [
              "<function matplotlib.pyplot.show>"
            ]
          },
          "metadata": {
            "tags": []
          },
          "execution_count": 19
        },
        {
          "output_type": "display_data",
          "data": {
            "image/png": "[encoded data removed]",
            "text/plain": [
              "<Figure size 432x288 with 1 Axes>"
            ]
          },
          "metadata": {
            "tags": [],
            "needs_background": "light"
          }
        }
      ]
    },
    {
      "cell_type": "code",
      "metadata": {
        "id": "GTjYh039Qi4y",
        "outputId": "1bb15de1-fec5-42eb-874b-220b50e8bdcf",
        "colab": {
          "base_uri": "https://localhost:8080/",
          "height": 282
        }
      },
      "source": [
        "import matplotlib.pyplot as plt\n",
        "\n",
        "plt.imshow(x_test[1000])\n",
        "plt.show\n"
      ],
      "execution_count": 5,
      "outputs": [
        {
          "output_type": "execute_result",
          "data": {
            "text/plain": [
              "<function matplotlib.pyplot.show>"
            ]
          },
          "metadata": {
            "tags": []
          },
          "execution_count": 5
        },
        {
          "output_type": "display_data",
          "data": {
            "image/png": "[encoded data removed]",
            "text/plain": [
              "<Figure size 432x288 with 1 Axes>"
            ]
          },
          "metadata": {
            "tags": [],
            "needs_background": "light"
          }
        }
      ]
    }
  ]
}